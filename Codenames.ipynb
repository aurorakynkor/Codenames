{
 "cells": [
  {
   "cell_type": "markdown",
   "id": "ac13cfe4",
   "metadata": {},
   "source": [
    "**FETCHING DATA**"
   ]
  },
  {
   "cell_type": "code",
   "execution_count": 3,
   "id": "a3070869",
   "metadata": {},
   "outputs": [],
   "source": [
    "import gensim\n",
    "import nltk\n",
    "import numpy as np\n",
    "from nltk.data import find\n",
    "import string\n",
    "import pandas as pd\n",
    "import pprint\n",
    "import networkx as nx\n",
    "import matplotlib\n",
    "from pyvis.network import Network"
   ]
  },
  {
   "cell_type": "markdown",
   "id": "2e58b2b3",
   "metadata": {},
   "source": [
    "Getting Pre-Built W2V model https://code.google.com/archive/p/word2vec/"
   ]
  },
  {
   "cell_type": "code",
   "execution_count": 4,
   "id": "adad2607",
   "metadata": {},
   "outputs": [
    {
     "name": "stderr",
     "output_type": "stream",
     "text": [
      "[nltk_data] Downloading package word2vec_sample to C:\\Users\\Aurora\n",
      "[nltk_data]     Kynkor\\AppData\\Roaming\\nltk_data...\n",
      "[nltk_data]   Package word2vec_sample is already up-to-date!\n"
     ]
    }
   ],
   "source": [
    "nltk.download('word2vec_sample')\n",
    "word2vec_sample = str(find('models/word2vec_sample/pruned.word2vec.txt'))\n",
    "model = gensim.models.KeyedVectors.load_word2vec_format(word2vec_sample, binary=False)"
   ]
  },
  {
   "cell_type": "markdown",
   "id": "de2cb26f",
   "metadata": {},
   "source": [
    "Exampe Usage"
   ]
  },
  {
   "cell_type": "code",
   "execution_count": 5,
   "id": "fbdf42fe",
   "metadata": {},
   "outputs": [
    {
     "data": {
      "text/plain": [
       "[('woman', 0.7664012908935547),\n",
       " ('boy', 0.6824869513511658),\n",
       " ('teenager', 0.6586930155754089),\n",
       " ('girl', 0.5921713709831238),\n",
       " ('robber', 0.5585117936134338),\n",
       " ('men', 0.5489763617515564),\n",
       " ('guy', 0.5420036315917969),\n",
       " ('person', 0.5342026948928833),\n",
       " ('gentleman', 0.5337991714477539),\n",
       " ('Man', 0.5316053032875061)]"
      ]
     },
     "execution_count": 5,
     "metadata": {},
     "output_type": "execute_result"
    }
   ],
   "source": [
    "model.most_similar(positive=(['man']), topn = 10)"
   ]
  },
  {
   "cell_type": "markdown",
   "id": "48862eb0",
   "metadata": {},
   "source": [
    "Getting List of Codenames words"
   ]
  },
  {
   "cell_type": "code",
   "execution_count": 6,
   "id": "6ee416ab",
   "metadata": {},
   "outputs": [],
   "source": [
    "my_file = open(\"codenames.txt\", \"r\")\n",
    "content = my_file.read()\n",
    "codenames_word_list = content.split(\"\\n\")\n",
    "my_file.close()"
   ]
  },
  {
   "cell_type": "markdown",
   "id": "e7b9da1c",
   "metadata": {},
   "source": [
    "Get rid of words not in model :("
   ]
  },
  {
   "cell_type": "code",
   "execution_count": 7,
   "id": "08401eab",
   "metadata": {
    "scrolled": false
   },
   "outputs": [
    {
     "name": "stdout",
     "output_type": "stream",
     "text": [
      "Unknown Words: ['aztec', 'beijing', 'centaur', 'czech', 'horseshoe', 'ice cream', 'kangaroo', 'kiwi', 'laser', 'leprechaun', 'loch ness', 'new york', 'ninja', 'olympus', 'penguin', 'platypus', 'scorpion', 'scuba diver', 'server', 'shark', 'smuggler', 'snowman', 'superhero', 'unicorn', 'whale']\n"
     ]
    }
   ],
   "source": [
    "model_word_list = model.index_to_key\n",
    "model_word_list = list((map(lambda x: x.lower(), model_word_list)))\n",
    "codenames_word_list = list((map(lambda x: x.lower(), codenames_word_list)))\n",
    "unknown_words = [x for x in codenames_word_list if x not in model_word_list]\n",
    "known_words = [x for x in codenames_word_list if x in model_word_list]\n",
    "print(f\"\"\"Unknown Words: {unknown_words}\"\"\")\n",
    "codenames_word_list = known_words"
   ]
  },
  {
   "cell_type": "markdown",
   "id": "354982ab",
   "metadata": {},
   "source": [
    "There is a mismatch between the model case and the codenames:"
   ]
  },
  {
   "cell_type": "code",
   "execution_count": 6,
   "id": "1c4ab2af",
   "metadata": {},
   "outputs": [],
   "source": [
    "def get_correct_case (input_words):\n",
    "    return_words = []\n",
    "    for word in input_words:\n",
    "        try:\n",
    "            similar_words = model.most_similar(positive=[word], topn = 5)\n",
    "            return_words.append(word)\n",
    "        except:\n",
    "            try:\n",
    "                similar_words = model.most_similar(positive=[word.capitalize()], topn = 5)\n",
    "                return_words.append(word.capitalize())\n",
    "            except:\n",
    "                try:\n",
    "                    similar_words = model.most_similar(positive=[string.capwords(word)], topn = 5)\n",
    "                    return_words.append(string.capwords(word))\n",
    "                except:\n",
    "                    return []\n",
    "    return return_words\n",
    "                \n",
    "codenames_word_list = get_correct_case(codenames_word_list)"
   ]
  },
  {
   "cell_type": "markdown",
   "id": "7e144806",
   "metadata": {},
   "source": [
    "**SIMULATED GAME**"
   ]
  },
  {
   "cell_type": "code",
   "execution_count": 7,
   "id": "4f09e636",
   "metadata": {},
   "outputs": [],
   "source": [
    "good_list = list(np.random.choice(codenames_word_list, 9, replace=False))\n",
    "codenames_word_list = [x for x in codenames_word_list if x not in good_list]\n",
    "\n",
    "bad_list = list(np.random.choice(codenames_word_list, 8, replace=False))\n",
    "codenames_word_list = [x for x in codenames_word_list if x not in bad_list]\n",
    "\n",
    "neutral_list = list(np.random.choice(codenames_word_list, 7, replace=False))\n",
    "codenames_word_list = [x for x in codenames_word_list if x not in neutral_list]\n",
    "\n",
    "death_list = list(np.random.choice(codenames_word_list, 1, replace=False))\n",
    "\n",
    "game_list = good_list + bad_list + neutral_list + death_list"
   ]
  },
  {
   "cell_type": "code",
   "execution_count": 8,
   "id": "4a0f5174",
   "metadata": {},
   "outputs": [
    {
     "data": {
      "text/html": [
       "<style type=\"text/css\">\n",
       "#T_47f42_row0_col0, #T_47f42_row1_col4, #T_47f42_row2_col1, #T_47f42_row2_col2, #T_47f42_row3_col1, #T_47f42_row3_col3, #T_47f42_row4_col1, #T_47f42_row4_col3 {\n",
       "  background-color: red;\n",
       "}\n",
       "#T_47f42_row0_col1 {\n",
       "  background-color: black;\n",
       "  color: white;\n",
       "}\n",
       "#T_47f42_row0_col2, #T_47f42_row1_col0, #T_47f42_row1_col1, #T_47f42_row2_col0, #T_47f42_row2_col4, #T_47f42_row3_col4, #T_47f42_row4_col0 {\n",
       "  background-color: #F5F5DC;\n",
       "}\n",
       "#T_47f42_row0_col3, #T_47f42_row0_col4, #T_47f42_row1_col2, #T_47f42_row1_col3, #T_47f42_row2_col3, #T_47f42_row3_col0, #T_47f42_row3_col2, #T_47f42_row4_col2, #T_47f42_row4_col4 {\n",
       "  background-color: green;\n",
       "}\n",
       "</style>\n",
       "<table id=\"T_47f42\">\n",
       "  <thead>\n",
       "    <tr>\n",
       "      <th class=\"blank level0\" >&nbsp;</th>\n",
       "      <th id=\"T_47f42_level0_col0\" class=\"col_heading level0 col0\" >0</th>\n",
       "      <th id=\"T_47f42_level0_col1\" class=\"col_heading level0 col1\" >1</th>\n",
       "      <th id=\"T_47f42_level0_col2\" class=\"col_heading level0 col2\" >2</th>\n",
       "      <th id=\"T_47f42_level0_col3\" class=\"col_heading level0 col3\" >3</th>\n",
       "      <th id=\"T_47f42_level0_col4\" class=\"col_heading level0 col4\" >4</th>\n",
       "    </tr>\n",
       "  </thead>\n",
       "  <tbody>\n",
       "    <tr>\n",
       "      <th id=\"T_47f42_level0_row0\" class=\"row_heading level0 row0\" >0</th>\n",
       "      <td id=\"T_47f42_row0_col0\" class=\"data row0 col0\" >net</td>\n",
       "      <td id=\"T_47f42_row0_col1\" class=\"data row0 col1\" >compound</td>\n",
       "      <td id=\"T_47f42_row0_col2\" class=\"data row0 col2\" >note</td>\n",
       "      <td id=\"T_47f42_row0_col3\" class=\"data row0 col3\" >fork</td>\n",
       "      <td id=\"T_47f42_row0_col4\" class=\"data row0 col4\" >Saturn</td>\n",
       "    </tr>\n",
       "    <tr>\n",
       "      <th id=\"T_47f42_level0_row1\" class=\"row_heading level0 row1\" >1</th>\n",
       "      <td id=\"T_47f42_row1_col0\" class=\"data row1 col0\" >march</td>\n",
       "      <td id=\"T_47f42_row1_col1\" class=\"data row1 col1\" >bar</td>\n",
       "      <td id=\"T_47f42_row1_col2\" class=\"data row1 col2\" >grace</td>\n",
       "      <td id=\"T_47f42_row1_col3\" class=\"data row1 col3\" >green</td>\n",
       "      <td id=\"T_47f42_row1_col4\" class=\"data row1 col4\" >star</td>\n",
       "    </tr>\n",
       "    <tr>\n",
       "      <th id=\"T_47f42_level0_row2\" class=\"row_heading level0 row2\" >2</th>\n",
       "      <td id=\"T_47f42_row2_col0\" class=\"data row2 col0\" >trip</td>\n",
       "      <td id=\"T_47f42_row2_col1\" class=\"data row2 col1\" >alien</td>\n",
       "      <td id=\"T_47f42_row2_col2\" class=\"data row2 col2\" >whip</td>\n",
       "      <td id=\"T_47f42_row2_col3\" class=\"data row2 col3\" >table</td>\n",
       "      <td id=\"T_47f42_row2_col4\" class=\"data row2 col4\" >hospital</td>\n",
       "    </tr>\n",
       "    <tr>\n",
       "      <th id=\"T_47f42_level0_row3\" class=\"row_heading level0 row3\" >3</th>\n",
       "      <td id=\"T_47f42_row3_col0\" class=\"data row3 col0\" >deck</td>\n",
       "      <td id=\"T_47f42_row3_col1\" class=\"data row3 col1\" >chest</td>\n",
       "      <td id=\"T_47f42_row3_col2\" class=\"data row3 col2\" >dress</td>\n",
       "      <td id=\"T_47f42_row3_col3\" class=\"data row3 col3\" >satellite</td>\n",
       "      <td id=\"T_47f42_row3_col4\" class=\"data row3 col4\" >board</td>\n",
       "    </tr>\n",
       "    <tr>\n",
       "      <th id=\"T_47f42_level0_row4\" class=\"row_heading level0 row4\" >4</th>\n",
       "      <td id=\"T_47f42_row4_col0\" class=\"data row4 col0\" >tie</td>\n",
       "      <td id=\"T_47f42_row4_col1\" class=\"data row4 col1\" >engine</td>\n",
       "      <td id=\"T_47f42_row4_col2\" class=\"data row4 col2\" >strike</td>\n",
       "      <td id=\"T_47f42_row4_col3\" class=\"data row4 col3\" >lab</td>\n",
       "      <td id=\"T_47f42_row4_col4\" class=\"data row4 col4\" >well</td>\n",
       "    </tr>\n",
       "  </tbody>\n",
       "</table>\n"
      ],
      "text/plain": [
       "<pandas.io.formats.style.Styler at 0x24a2b1abcd0>"
      ]
     },
     "execution_count": 8,
     "metadata": {},
     "output_type": "execute_result"
    }
   ],
   "source": [
    "def _color_board(value):\n",
    "    if value in good_list:\n",
    "        return 'background-color: green'\n",
    "    elif value in neutral_list:\n",
    "        return 'background-color: #F5F5DC'\n",
    "    elif value in bad_list:\n",
    "        return 'background-color: red'\n",
    "    elif value in death_list:\n",
    "        return 'background-color: black; color: white'\n",
    "    else:\n",
    "        return 'background-color: purple'\n",
    "\n",
    "game_list = np.array(game_list)\n",
    "np.random.shuffle(game_list)\n",
    "game_board = pd.DataFrame(data=game_list.reshape((5,5)))\n",
    "game_board.style.applymap(_color_board)"
   ]
  },
  {
   "cell_type": "markdown",
   "id": "fee40333",
   "metadata": {},
   "source": [
    "**TRIVIAL ALGORITHM**"
   ]
  },
  {
   "cell_type": "code",
   "execution_count": 9,
   "id": "365ded6b",
   "metadata": {
    "scrolled": false
   },
   "outputs": [
    {
     "name": "stdout",
     "output_type": "stream",
     "text": [
      "[('dressy', 0.3059610426425934),\n",
      " ('haggle', 0.3004680871963501),\n",
      " ('tablecloths', 0.2925092875957489),\n",
      " ('napkins', 0.2721412181854248),\n",
      " ('dine', 0.2683233618736267),\n",
      " ('prettily', 0.26317453384399414),\n",
      " ('medallions', 0.2630601227283478),\n",
      " ('floral', 0.26085275411605835),\n",
      " ('spade', 0.2597275972366333),\n",
      " ('attractively', 0.2562568485736847)]\n"
     ]
    }
   ],
   "source": [
    "pp = pprint.PrettyPrinter()\n",
    "pp.pprint(model.most_similar(positive=(good_list), negative=(bad_list+death_list), topn = 10))"
   ]
  },
  {
   "cell_type": "markdown",
   "id": "309bddf1",
   "metadata": {},
   "source": [
    "**MY FIRST ALGORITHM**"
   ]
  },
  {
   "cell_type": "code",
   "execution_count": 10,
   "id": "4e0e1359",
   "metadata": {
    "scrolled": true
   },
   "outputs": [
    {
     "name": "stdout",
     "output_type": "stream",
     "text": [
      "      Output Word  Count  Sum Strength  Avg Strength\n",
      "0            pink      2      0.878496      0.439248\n",
      "1            tray      2      0.834319      0.417160\n",
      "2           patio      2      0.826315      0.413157\n",
      "3           plaid      2      0.805388      0.402694\n",
      "4           khaki      2      0.801213      0.400607\n",
      "...           ...    ...           ...           ...\n",
      "1290  suspensions      1      0.255195      0.255195\n",
      "1291        blitz      1      0.254608      0.254608\n",
      "1292      napping      1      0.253615      0.253615\n",
      "1293     reprisal      1      0.253601      0.253601\n",
      "1294     skirmish      1      0.252935      0.252935\n",
      "\n",
      "[1295 rows x 4 columns]\n",
      "\n",
      "CLUE\n",
      "('pink', 2)\n",
      "\n",
      "Tiles to Guess:\n",
      "['green', 'dress']\n"
     ]
    }
   ],
   "source": [
    "def get_similarity_df(start_list, top_n = 150):\n",
    "    df = pd.DataFrame(columns=['Input Word', 'Output Word', 'Strength'])\n",
    "    for value in start_list:\n",
    "        similarities = model.most_similar(positive=(value), topn = top_n)\n",
    "        for similar in similarities:\n",
    "            new_row = pd.DataFrame(({'Input Word':value, 'Output Word':similar[0], 'Strength':similar[1]}),index=[0])\n",
    "            df = pd.concat([new_row, df.loc[:]]).reset_index(drop=True)\n",
    "    return df\n",
    "\n",
    "good_df = get_similarity_df(good_list)\n",
    "\n",
    "count_df = good_df[['Input Word', 'Output Word']].groupby('Output Word').count()\n",
    "count_df = count_df.rename(columns={\"Input Word\": \"Count\"})\n",
    "count_df['Sum Strength'] = good_df[['Output Word', 'Strength']].groupby('Output Word').sum()\n",
    "count_df['Avg Strength'] = count_df['Sum Strength'] / count_df['Count']\n",
    "count_df = count_df.sort_values(by = ['Count', 'Avg Strength'], ascending = False).reset_index(level=0)\n",
    "\n",
    "words_to_guess = good_df.loc[good_df['Output Word'] == count_df.iloc[0]['Output Word']]['Input Word'].tolist()\n",
    "\n",
    "print(count_df)\n",
    "print('')\n",
    "print('CLUE')\n",
    "print((count_df.iloc[0]['Output Word'], len(words_to_guess)))\n",
    "print('')\n",
    "print('Tiles to Guess:')\n",
    "print(words_to_guess)\n"
   ]
  },
  {
   "cell_type": "markdown",
   "id": "7f117152",
   "metadata": {},
   "source": [
    "**MY SECOND ALGORITHM**"
   ]
  },
  {
   "cell_type": "code",
   "execution_count": 11,
   "id": "4a3ea3df",
   "metadata": {},
   "outputs": [
    {
     "name": "stdout",
     "output_type": "stream",
     "text": [
      "     Output Word  Frequency  Total Reward\n",
      "0           tray          3    115.640759\n",
      "1         tables          2    101.402375\n",
      "2           pink          2     87.849602\n",
      "3        dresses          1     83.203125\n",
      "4          patio          2     82.631499\n",
      "...          ...        ...           ...\n",
      "3341  conjugates          1   -189.607039\n",
      "3342     hideout          1   -189.724892\n",
      "3343       cells          2   -193.232375\n",
      "3344        cell          2   -198.309225\n",
      "3345   compounds          1   -343.781114\n",
      "\n",
      "[3346 rows x 3 columns]\n",
      "CLUE\n",
      "('tray', 3)\n",
      "WORDS TO GUESS\n",
      "['deck', 'table', 'fork']\n"
     ]
    }
   ],
   "source": [
    "g_df = get_similarity_df(good_list, top_n = 200)\n",
    "b_df = get_similarity_df(bad_list, top_n = 200)\n",
    "d_df = get_similarity_df(death_list, top_n = 200)\n",
    "\n",
    "\n",
    "\n",
    "def get_best_guess(good_df, bad_df, death_df):\n",
    "    good_df = good_df.copy()\n",
    "    bad_df = bad_df.copy()\n",
    "    death_df = death_df.copy()\n",
    "    \n",
    "    good_df['Reward'] = 100 * good_df['Strength']\n",
    "    bad_df['Reward'] = -100 * bad_df['Strength']\n",
    "    death_df['Reward'] = -500 * death_df['Strength']\n",
    "    \n",
    "    full_df = pd.concat([good_df, bad_df, death_df], axis=0)\n",
    "    \n",
    "    freq_df = full_df[['Input Word', 'Output Word']].groupby('Output Word').count().rename(columns={\"Input Word\": \"Frequency\"})\n",
    "    freq_df['Total Reward'] = full_df[['Output Word', 'Reward']].groupby('Output Word').sum()\n",
    "    freq_df = freq_df.sort_values(by = ['Total Reward', 'Frequency'], ascending = False).reset_index(level=0)\n",
    "    \n",
    "    print(freq_df)\n",
    "    \n",
    "    best_clue = freq_df.iloc[0]['Output Word']\n",
    "    words_to_guess = full_df.loc[full_df['Output Word'] == freq_df.iloc[0]['Output Word']]['Input Word'].to_list()\n",
    "    \n",
    "    return best_clue, words_to_guess\n",
    "\n",
    "    \n",
    "clue, words_to_guess = get_best_guess(g_df, b_df, d_df)\n",
    "\n",
    "print('CLUE')\n",
    "print((clue, len(words_to_guess)))\n",
    "\n",
    "print('WORDS TO GUESS')\n",
    "print(words_to_guess)"
   ]
  },
  {
   "cell_type": "markdown",
   "id": "91e9398b",
   "metadata": {},
   "source": [
    "**MY THIRD ALGORITHM**"
   ]
  },
  {
   "cell_type": "code",
   "execution_count": 12,
   "id": "778d2511",
   "metadata": {},
   "outputs": [
    {
     "name": "stdout",
     "output_type": "stream",
     "text": [
      "     Output Word  Frequency  Total Reward\n",
      "0           tray          3    115.640759\n",
      "1         tables          2    101.402375\n",
      "2           pink          2     87.849602\n",
      "3        dresses          1     83.203125\n",
      "4          patio          2     82.631499\n",
      "...          ...        ...           ...\n",
      "1908      palace          1   -182.259187\n",
      "1909  guardhouse          1   -184.241399\n",
      "1910  conjugates          1   -189.607039\n",
      "1911     hideout          1   -189.724892\n",
      "1912   compounds          1   -343.781114\n",
      "\n",
      "[1913 rows x 3 columns]\n",
      "CLUE\n",
      "('tray', 3)\n",
      "WORDS TO GUESS\n",
      "['deck', 'table', 'fork']\n"
     ]
    }
   ],
   "source": [
    "g_df = get_similarity_df(good_list, top_n = 200)\n",
    "d_df = get_similarity_df(death_list, top_n = 200)\n",
    "\n",
    "def get_best_guess(good_df, death_df):\n",
    "    good_df = good_df.copy()\n",
    "    death_df = death_df.copy()\n",
    "    \n",
    "    good_df['Reward'] = 100 * good_df['Strength']\n",
    "    death_df['Reward'] = -500 * death_df['Strength']\n",
    "    \n",
    "    full_df = pd.concat([good_df, death_df], axis=0)\n",
    "    \n",
    "    freq_df = full_df[['Input Word', 'Output Word']].groupby('Output Word').count().rename(columns={\"Input Word\": \"Frequency\"})\n",
    "    freq_df['Total Reward'] = full_df[['Output Word', 'Reward']].groupby('Output Word').sum()\n",
    "    freq_df = freq_df.sort_values(by = ['Total Reward', 'Frequency'], ascending = False).reset_index(level=0)\n",
    "    \n",
    "    print(freq_df)\n",
    "    \n",
    "    best_clue = freq_df.iloc[0]['Output Word']\n",
    "    words_to_guess = full_df.loc[full_df['Output Word'] == freq_df.iloc[0]['Output Word']]['Input Word'].to_list()\n",
    "    \n",
    "    return best_clue, words_to_guess\n",
    "\n",
    "\n",
    "    \n",
    "clue, words_to_guess = get_best_guess(g_df, d_df)\n",
    "\n",
    "print('CLUE')\n",
    "print((clue, len(words_to_guess)))\n",
    "\n",
    "print('WORDS TO GUESS')\n",
    "print(words_to_guess)"
   ]
  },
  {
   "cell_type": "markdown",
   "id": "60245b2a",
   "metadata": {},
   "source": [
    "**VISUALIZATION**"
   ]
  },
  {
   "cell_type": "code",
   "execution_count": 13,
   "id": "e4582670",
   "metadata": {},
   "outputs": [],
   "source": [
    "good_df = get_similarity_df(good_list)\n",
    "\n",
    "def nx2pyvis(nx_graph, pyvisnet, color):\n",
    "    assert(isinstance(nx_graph, nx.Graph))\n",
    "    edges = nx_graph.edges(data=True)\n",
    "    nodes = nx_graph.nodes(data=True)\n",
    "    \n",
    "    if len(edges) > 0:\n",
    "        for e in edges: \n",
    "            pyvisnet.add_node(e[0], color = color)\n",
    "            pyvisnet.add_node(e[1])\n",
    "            pyvisnet.add_edge(e[0], e[1], color = color, title = str(e[2]['Strength']))\n",
    "            \n",
    "net = Network(notebook = True)  \n",
    "good_graph = nx.from_pandas_edgelist(good_df, source = 'Input Word', target = 'Output Word', edge_attr = 'Strength' )\n",
    "nx2pyvis(good_graph, net, 'green')\n",
    "#net.show('example.html')\n"
   ]
  },
  {
   "cell_type": "markdown",
   "id": "2f7791b1",
   "metadata": {},
   "source": [
    "**COMPLETE VISUALIZATION**"
   ]
  },
  {
   "cell_type": "code",
   "execution_count": 14,
   "id": "fa63002f",
   "metadata": {},
   "outputs": [
    {
     "data": {
      "text/html": [
       "\n",
       "        <iframe\n",
       "            width=\"500px\"\n",
       "            height=\"500px\"\n",
       "            src=\"example.html\"\n",
       "            frameborder=\"0\"\n",
       "            allowfullscreen\n",
       "            \n",
       "        ></iframe>\n",
       "        "
      ],
      "text/plain": [
       "<IPython.lib.display.IFrame at 0x24a31619960>"
      ]
     },
     "execution_count": 14,
     "metadata": {},
     "output_type": "execute_result"
    }
   ],
   "source": [
    "death_df = get_similarity_df(death_list)\n",
    "bad_df = get_similarity_df(bad_list)\n",
    "neutral_df = get_similarity_df(neutral_list)\n",
    "\n",
    "death_graph = nx.from_pandas_edgelist(death_df, source = 'Input Word', target = 'Output Word', edge_attr = 'Strength')\n",
    "bad_graph = nx.from_pandas_edgelist(bad_df, source = 'Input Word', target = 'Output Word', edge_attr = 'Strength')\n",
    "#neutral_graph = nx.from_pandas_edgelist(neutral_df, source = 'Input Word', target = 'Output Word', edge_attr = 'Strength')\n",
    "\n",
    "\n",
    "nx2pyvis(death_graph, net, 'black')\n",
    "nx2pyvis(bad_graph, net, 'red')\n",
    "#nx2pyvis(neutral_graph, net, '#F5F5DC')\n",
    "net.toggle_physics(True)\n",
    "net.show('example.html')"
   ]
  },
  {
   "cell_type": "markdown",
   "id": "c86c2c49",
   "metadata": {},
   "source": [
    "resources: \n",
    "https://www.kaggle.com/code/jihyeseo/word2vec-gensim-play-look-for-similar-words/notebook\n",
    "\n",
    "https://anvaka.github.io/pm/#/galaxy/word2vec-wiki?cx=-6732&cy=-8924&cz=-15294&lx=0.0731&ly=-0.9418&lz=0.2447&lw=0.2185&ml=300&s=1.75&l=1&v=d50_clean_small\n",
    "\n",
    "https://towardsdatascience.com/visualizing-networks-in-python-d70f4cbeb259\n"
   ]
  },
  {
   "cell_type": "code",
   "execution_count": null,
   "id": "796cbbf8",
   "metadata": {},
   "outputs": [],
   "source": []
  }
 ],
 "metadata": {
  "kernelspec": {
   "display_name": "Python 3 (ipykernel)",
   "language": "python",
   "name": "python3"
  },
  "language_info": {
   "codemirror_mode": {
    "name": "ipython",
    "version": 3
   },
   "file_extension": ".py",
   "mimetype": "text/x-python",
   "name": "python",
   "nbconvert_exporter": "python",
   "pygments_lexer": "ipython3",
   "version": "3.10.6"
  },
  "vscode": {
   "interpreter": {
    "hash": "4728e68bcac666887dbb586bccafa9d8fe6fa0100514e24fb65d6f79bce8a951"
   }
  }
 },
 "nbformat": 4,
 "nbformat_minor": 5
}
